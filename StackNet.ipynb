{
 "cells": [
  {
   "cell_type": "code",
   "execution_count": 80,
   "metadata": {},
   "outputs": [],
   "source": [
    "from vecstack import StackingTransformer\n",
    "from sklearn.linear_model import Ridge\n",
    "from sklearn.ensemble import RandomForestRegressor , AdaBoostRegressor\n",
    "from sklearn.pipeline import Pipeline\n",
    "from lightgbm import LGBMRegressor\n",
    "from xgboost import XGBRegressor\n",
    "from catboost import CatBoostRegressor\n",
    "from sklearn.externals import joblib\n",
    "from sklearn.svm import SVR\n",
    "from sklearn.metrics import mean_squared_error , mean_squared_log_error , r2_score\n",
    "from math import sqrt\n",
    "import pandas as pd"
   ]
  },
  {
   "cell_type": "code",
   "execution_count": 57,
   "metadata": {},
   "outputs": [],
   "source": [
    "df = pd.read_csv('Admission_Predict_new.csv')\n",
    "df.drop('Serial No.' , axis = 1 , inplace = True)"
   ]
  },
  {
   "cell_type": "code",
   "execution_count": 58,
   "metadata": {},
   "outputs": [],
   "source": [
    "X = df.iloc[: , :7].values\n",
    "y = df.loc[: ,'Chance of Admit '].values\n",
    "\n"
   ]
  },
  {
   "cell_type": "code",
   "execution_count": 59,
   "metadata": {},
   "outputs": [],
   "source": [
    "from sklearn.model_selection import train_test_split\n",
    "\n",
    "X_train , X_test , y_train , y_test = train_test_split(X , y , test_size = 0.2 , random_state = 42)"
   ]
  },
  {
   "cell_type": "code",
   "execution_count": 175,
   "metadata": {},
   "outputs": [],
   "source": [
    "l0_models = [('rg'  ,Ridge(random_state = 42)) , \n",
    "            ('rf' , RandomForestRegressor(n_estimators = 100  ,random_state = 42)),\n",
    "             ('ada' , AdaBoostRegressor(n_estimators = 100  ,random_state = 42)),\n",
    "             ('svr' , SVR(gamma = 'auto' , kernel = 'rbf' )),\n",
    "             ('xg' , XGBRegressor(n_estimators = 100 , learning_rate = 0.001 , max_depth = 3 , booster = 'gblinear' , random_state = 42))\n",
    "             \n",
    "            ]\n",
    "\n",
    "#l1_models  = [#('cat' ,CatBoostRegressor(logging_level = 'Silent' , n_estimators = 100 , random_state = 42 ,learning_rate = 0.01)) ,\n",
    " #             ('xg' , XGBRegressor(n_estimators = 100 , learning_rate = 0.01 , max_depth = 4 , booster = 'gbtree' , random_state = 42))\n",
    "  #           ]\n",
    "\n",
    "f_model = LGBMRegressor(n_estimators = 100  , random_state = 40 , learning_rate = 0.1)\n"
   ]
  },
  {
   "cell_type": "code",
   "execution_count": 177,
   "metadata": {},
   "outputs": [],
   "source": [
    "stack_1= StackingTransformer(estimators = l0_models ,regression = True, variant = 'A', n_folds = 8 , metric = mean_squared_log_error,\n",
    "       \n",
    "                             verbose = 0 , shuffle = True)\n",
    "\n",
    "#stack_2 = StackingTransformer(estimators = l1_models ,regression = True, variant = 'A'  , n_folds = 10 ,\n",
    "       \n",
    " #                            verbose = 0 , shuffle = True)"
   ]
  },
  {
   "cell_type": "code",
   "execution_count": 178,
   "metadata": {},
   "outputs": [],
   "source": [
    "steps = [('stack_1' , stack_1),\n",
    "         #('stack_2' , stack_2),\n",
    "        ('final_model' , f_model)]\n",
    "\n",
    "stack_model = Pipeline(steps)\n"
   ]
  },
  {
   "cell_type": "code",
   "execution_count": 179,
   "metadata": {},
   "outputs": [],
   "source": [
    "stack_model = stack_model.fit(X_train , y_train)\n",
    "pred = stack_model.predict(X_test)"
   ]
  },
  {
   "cell_type": "code",
   "execution_count": 180,
   "metadata": {},
   "outputs": [],
   "source": [
    "mse = mean_squared_error(y_test , pred)\n",
    "mse_log = mean_squared_log_error(y_test , pred)\n",
    "rmse = sqrt(mse)\n",
    "model_r2 = r2_score(y_test , pred)"
   ]
  },
  {
   "cell_type": "code",
   "execution_count": 181,
   "metadata": {},
   "outputs": [
    {
     "name": "stdout",
     "output_type": "stream",
     "text": [
      "******StackNet******\n",
      "---------------------------\n",
      "MSE Score : 0.003994822793393607\n",
      "RMSE : 0.06320461053905488\n",
      "Mean Squared Log Error : 0.0015231489007274347\n",
      "R2-Score : 0.804654142132342\n"
     ]
    }
   ],
   "source": [
    "print(\"******{}******\".format('StackNet'))\n",
    "print(\"---------------------------\")\n",
    "print(\"MSE Score : {}\".format(mse))\n",
    "print(\"RMSE : {}\".format(rmse))\n",
    "print(\"Mean Squared Log Error : {}\".format(mse_log))\n",
    "print(\"R2-Score : {}\".format(model_r2))"
   ]
  },
  {
   "cell_type": "code",
   "execution_count": 192,
   "metadata": {},
   "outputs": [],
   "source": [
    "stack_result = pd.DataFrame(columns = ['MSE' , 'RMSE' , 'MSE_LOG' , 'R2-Score'])\n",
    "\n",
    "stack_result.loc['Stack_model'] = [mse , rmse , mse_log , model_r2]"
   ]
  },
  {
   "cell_type": "code",
   "execution_count": 194,
   "metadata": {},
   "outputs": [],
   "source": [
    "stack_result.to_csv('Stack_model_results.csv')"
   ]
  },
  {
   "cell_type": "code",
   "execution_count": 196,
   "metadata": {},
   "outputs": [],
   "source": [
    "_ =  joblib.dump(stack_model , 'Stack_Model.pkl') #saving the model"
   ]
  },
  {
   "cell_type": "code",
   "execution_count": null,
   "metadata": {},
   "outputs": [],
   "source": []
  }
 ],
 "metadata": {
  "kernelspec": {
   "display_name": "Python 3",
   "language": "python",
   "name": "python3"
  },
  "language_info": {
   "codemirror_mode": {
    "name": "ipython",
    "version": 3
   },
   "file_extension": ".py",
   "mimetype": "text/x-python",
   "name": "python",
   "nbconvert_exporter": "python",
   "pygments_lexer": "ipython3",
   "version": "3.6.8"
  }
 },
 "nbformat": 4,
 "nbformat_minor": 2
}
