{
 "cells": [
  {
   "cell_type": "code",
   "execution_count": 57,
   "metadata": {},
   "outputs": [],
   "source": [
    "import numpy as np\n",
    "import pandas as pd\n",
    "from sklearn.model_selection import train_test_split\n",
    "from keras.layers import Dense\n",
    "from keras.models import Sequential\n",
    "import keras"
   ]
  },
  {
   "cell_type": "code",
   "execution_count": 4,
   "metadata": {},
   "outputs": [],
   "source": [
    "data = pd.read_csv(\"Admission_predict_new.csv\")\n",
    "data.drop('Serial No.' , axis = 0 , inplace  = True)"
   ]
  },
  {
   "cell_type": "code",
   "execution_count": 11,
   "metadata": {},
   "outputs": [
    {
     "name": "stdout",
     "output_type": "stream",
     "text": [
      "(500, 7) (500,)\n"
     ]
    }
   ],
   "source": [
    "X = data.iloc[: , :7].values\n",
    "y = data.iloc[: ,8].values\n",
    "\n",
    "print(X.shape , y.shape)"
   ]
  },
  {
   "cell_type": "code",
   "execution_count": 24,
   "metadata": {},
   "outputs": [],
   "source": [
    "X_train , X_test , y_train , y_test = train_test_split(X , y , test_size = 0.2 ,random_state = 42)\n",
    "\n",
    "from sklearn.preprocessing import StandardScaler\n",
    "\n",
    "sc = StandardScaler()\n",
    "X_train = sc.fit_transform(X_train)\n",
    "X_test = sc.fit_transform(X_test)"
   ]
  },
  {
   "cell_type": "code",
   "execution_count": 64,
   "metadata": {},
   "outputs": [
    {
     "name": "stderr",
     "output_type": "stream",
     "text": [
      "c:\\users\\asus\\appdata\\local\\programs\\python\\python36\\lib\\site-packages\\ipykernel_launcher.py:10: UserWarning: The `nb_epoch` argument in `fit` has been renamed `epochs`.\n",
      "  # Remove the CWD from sys.path while we load stuff.\n"
     ]
    },
    {
     "name": "stdout",
     "output_type": "stream",
     "text": [
      "Epoch 1/50\n",
      "400/400 [==============================] - 2s 4ms/step - loss: 0.0631 - mean_squared_error: 0.0631\n",
      "Epoch 2/50\n",
      "400/400 [==============================] - 1s 2ms/step - loss: 0.0183 - mean_squared_error: 0.0183\n",
      "Epoch 3/50\n",
      "400/400 [==============================] - 1s 2ms/step - loss: 0.0060 - mean_squared_error: 0.0060\n",
      "Epoch 4/50\n",
      "400/400 [==============================] - 1s 2ms/step - loss: 0.0055 - mean_squared_error: 0.0055\n",
      "Epoch 5/50\n",
      "400/400 [==============================] - 1s 2ms/step - loss: 0.0052 - mean_squared_error: 0.0052\n",
      "Epoch 6/50\n",
      "400/400 [==============================] - 1s 2ms/step - loss: 0.0050 - mean_squared_error: 0.0050\n",
      "Epoch 7/50\n",
      "400/400 [==============================] - 1s 2ms/step - loss: 0.0048 - mean_squared_error: 0.0048\n",
      "Epoch 8/50\n",
      "400/400 [==============================] - 1s 2ms/step - loss: 0.0045 - mean_squared_error: 0.0045\n",
      "Epoch 9/50\n",
      "400/400 [==============================] - 1s 2ms/step - loss: 0.0043 - mean_squared_error: 0.0043\n",
      "Epoch 10/50\n",
      "400/400 [==============================] - 1s 2ms/step - loss: 0.0041 - mean_squared_error: 0.0041\n",
      "Epoch 11/50\n",
      "400/400 [==============================] - 1s 2ms/step - loss: 0.0040 - mean_squared_error: 0.0040\n",
      "Epoch 12/50\n",
      "400/400 [==============================] - 1s 2ms/step - loss: 0.0039 - mean_squared_error: 0.0039\n",
      "Epoch 13/50\n",
      "400/400 [==============================] - 1s 2ms/step - loss: 0.0038 - mean_squared_error: 0.0038\n",
      "Epoch 14/50\n",
      "400/400 [==============================] - 1s 2ms/step - loss: 0.0038 - mean_squared_error: 0.0038\n",
      "Epoch 15/50\n",
      "400/400 [==============================] - 0s 1ms/step - loss: 0.0037 - mean_squared_error: 0.0037\n",
      "Epoch 16/50\n",
      "400/400 [==============================] - 1s 2ms/step - loss: 0.0036 - mean_squared_error: 0.0036\n",
      "Epoch 17/50\n",
      "400/400 [==============================] - 1s 2ms/step - loss: 0.0036 - mean_squared_error: 0.0036\n",
      "Epoch 18/50\n",
      "400/400 [==============================] - 1s 2ms/step - loss: 0.0036 - mean_squared_error: 0.0036\n",
      "Epoch 19/50\n",
      "400/400 [==============================] - 1s 2ms/step - loss: 0.0036 - mean_squared_error: 0.0036\n",
      "Epoch 20/50\n",
      "400/400 [==============================] - 1s 2ms/step - loss: 0.0036 - mean_squared_error: 0.0036\n",
      "Epoch 21/50\n",
      "400/400 [==============================] - 1s 2ms/step - loss: 0.0036 - mean_squared_error: 0.0036\n",
      "Epoch 22/50\n",
      "400/400 [==============================] - 1s 2ms/step - loss: 0.0036 - mean_squared_error: 0.0036\n",
      "Epoch 23/50\n",
      "400/400 [==============================] - 1s 2ms/step - loss: 0.0035 - mean_squared_error: 0.0035\n",
      "Epoch 24/50\n",
      "400/400 [==============================] - 1s 2ms/step - loss: 0.0035 - mean_squared_error: 0.0035\n",
      "Epoch 25/50\n",
      "400/400 [==============================] - 1s 2ms/step - loss: 0.0035 - mean_squared_error: 0.0035\n",
      "Epoch 26/50\n",
      "400/400 [==============================] - 1s 2ms/step - loss: 0.0035 - mean_squared_error: 0.0035\n",
      "Epoch 27/50\n",
      "400/400 [==============================] - 1s 2ms/step - loss: 0.0034 - mean_squared_error: 0.0034\n",
      "Epoch 28/50\n",
      "400/400 [==============================] - 1s 2ms/step - loss: 0.0034 - mean_squared_error: 0.0034\n",
      "Epoch 29/50\n",
      "400/400 [==============================] - 1s 2ms/step - loss: 0.0034 - mean_squared_error: 0.0034\n",
      "Epoch 30/50\n",
      "400/400 [==============================] - 1s 2ms/step - loss: 0.0034 - mean_squared_error: 0.0034\n",
      "Epoch 31/50\n",
      "400/400 [==============================] - 1s 2ms/step - loss: 0.0033 - mean_squared_error: 0.0033\n",
      "Epoch 32/50\n",
      "400/400 [==============================] - 1s 2ms/step - loss: 0.0034 - mean_squared_error: 0.0034\n",
      "Epoch 33/50\n",
      "400/400 [==============================] - 1s 2ms/step - loss: 0.0034 - mean_squared_error: 0.0034\n",
      "Epoch 34/50\n",
      "400/400 [==============================] - 1s 2ms/step - loss: 0.0033 - mean_squared_error: 0.0033\n",
      "Epoch 35/50\n",
      "400/400 [==============================] - 1s 2ms/step - loss: 0.0033 - mean_squared_error: 0.0033\n",
      "Epoch 36/50\n",
      "400/400 [==============================] - 1s 2ms/step - loss: 0.0033 - mean_squared_error: 0.0033\n",
      "Epoch 37/50\n",
      "400/400 [==============================] - 1s 2ms/step - loss: 0.0033 - mean_squared_error: 0.0033\n",
      "Epoch 38/50\n",
      "400/400 [==============================] - 1s 2ms/step - loss: 0.0032 - mean_squared_error: 0.0032\n",
      "Epoch 39/50\n",
      "400/400 [==============================] - 1s 2ms/step - loss: 0.0033 - mean_squared_error: 0.0033\n",
      "Epoch 40/50\n",
      "400/400 [==============================] - 1s 2ms/step - loss: 0.0033 - mean_squared_error: 0.0033\n",
      "Epoch 41/50\n",
      "400/400 [==============================] - 1s 2ms/step - loss: 0.0034 - mean_squared_error: 0.0034\n",
      "Epoch 42/50\n",
      "400/400 [==============================] - 1s 2ms/step - loss: 0.0033 - mean_squared_error: 0.0033\n",
      "Epoch 43/50\n",
      "400/400 [==============================] - 1s 2ms/step - loss: 0.0032 - mean_squared_error: 0.0032\n",
      "Epoch 44/50\n",
      "400/400 [==============================] - 1s 2ms/step - loss: 0.0031 - mean_squared_error: 0.0031\n",
      "Epoch 45/50\n",
      "400/400 [==============================] - 1s 2ms/step - loss: 0.0032 - mean_squared_error: 0.0032\n",
      "Epoch 46/50\n",
      "400/400 [==============================] - 1s 2ms/step - loss: 0.0032 - mean_squared_error: 0.0032\n",
      "Epoch 47/50\n",
      "400/400 [==============================] - 1s 2ms/step - loss: 0.0032 - mean_squared_error: 0.0032\n",
      "Epoch 48/50\n",
      "400/400 [==============================] - 1s 2ms/step - loss: 0.0031 - mean_squared_error: 0.0031\n",
      "Epoch 49/50\n",
      "400/400 [==============================] - 1s 2ms/step - loss: 0.0032 - mean_squared_error: 0.0032\n",
      "Epoch 50/50\n",
      "400/400 [==============================] - 1s 2ms/step - loss: 0.0032 - mean_squared_error: 0.0032\n"
     ]
    }
   ],
   "source": [
    "\n",
    "reg = Sequential()\n",
    "reg.add(Dense ( units = 14 , kernel_initializer = 'uniform' , activation = 'relu' , input_dim = 7))\n",
    "reg.add(Dense(units = 14 , kernel_initializer = 'uniform' , activation = 'relu'))\n",
    "reg.add(Dense(units = 14 , kernel_initializer = 'uniform' , activation = 'relu'))\n",
    "reg.add(Dense(units = 1 , kernel_initializer = 'uniform' , activation = 'sigmoid'))\n",
    "\n",
    "reg.compile(optimizer = 'adam' , loss = 'mse' , metrics = ['mse'])\n",
    "\n",
    "f_reg = reg.fit(X_train , y_train , batch_size = 5, nb_epoch = 50)\n"
   ]
  },
  {
   "cell_type": "code",
   "execution_count": 29,
   "metadata": {},
   "outputs": [
    {
     "name": "stdout",
     "output_type": "stream",
     "text": [
      "[0.06925236098468304, 0.0673648938536644, 0.06476995907723904, 0.06089007779955864, 0.05510912425816059, 0.04774098843336105, 0.03835534248501062, 0.02795226015150547, 0.01915555289015174, 0.012721307203173637, 0.009217602480202914, 0.007562933536246419, 0.006810337910428644, 0.00645780568011105, 0.006184747908264399, 0.005953433574177325, 0.005772495362907648, 0.005608213739469648, 0.005461492948234082, 0.005334368487820029, 0.00524290397297591, 0.005132186715491116, 0.005037772050127387, 0.004953409638255834, 0.004873121785931289, 0.0048103196779266, 0.004749711859039963, 0.004698093910701573, 0.004653718089684844, 0.004599310574121773, 0.004561609076336026, 0.004505894659087062, 0.004460085416212678, 0.004422939871437848, 0.004377417592331767, 0.004335146071389318, 0.00429256591014564, 0.004255740763619542, 0.004216246353462338, 0.004178580059669912, 0.004142968507949263, 0.004104574793018401, 0.0040683645056560636, 0.004033293016254902, 0.004001884930767119, 0.00397204658947885, 0.0039343700744211675, 0.0039016402559354903, 0.0038812441169284286, 0.003840738080907613]\n"
     ]
    }
   ],
   "source": [
    "print(f_reg.history['mean_squared_error'])\n"
   ]
  },
  {
   "cell_type": "code",
   "execution_count": 65,
   "metadata": {},
   "outputs": [
    {
     "name": "stdout",
     "output_type": "stream",
     "text": [
      "******Neural Net ******\n",
      "---------------------------\n",
      "MSE Score : 0.0035415617652061367\n",
      "RMSE : 0.05951102221610831\n",
      "Mean Squared Log Error : 0.0013499500005071286\n",
      "R2-Score : 0.826818495588942\n"
     ]
    }
   ],
   "source": [
    "from sklearn.metrics import mean_squared_error , r2_score ,mean_squared_log_error \n",
    "from math import sqrt\n",
    "\n",
    "nn_pred = reg.predict(X_test)\n",
    "mse = mean_squared_error(y_test , nn_pred)\n",
    "rmse = sqrt(mse)\n",
    "r2score = r2_score(y_test , nn_pred)\n",
    "mse_log = mean_squared_log_error(y_test , nn_pred)\n",
    "\n",
    "print(\"******{} ******\".format(\"Neural Net\"))\n",
    "print(\"---------------------------\")\n",
    "print(\"MSE Score : {}\".format(mse))\n",
    "print(\"RMSE : {}\".format(rmse))\n",
    "print(\"Mean Squared Log Error : {}\".format(mse_log))\n",
    "print(\"R2-Score : {}\".format(r2score))"
   ]
  },
  {
   "cell_type": "code",
   "execution_count": 66,
   "metadata": {},
   "outputs": [],
   "source": [
    "#saving the model\n",
    "\n",
    "reg.save('NN.h5')\n"
   ]
  },
  {
   "cell_type": "code",
   "execution_count": 75,
   "metadata": {},
   "outputs": [
    {
     "data": {
      "image/png": "[encoded data removed]",
      "text/plain": [
       "<Figure size 432x288 with 1 Axes>"
      ]
     },
     "metadata": {
      "needs_background": "light"
     },
     "output_type": "display_data"
    }
   ],
   "source": [
    "import matplotlib.pyplot as plt\n",
    "%matplotlib inline\n",
    "plt.plot(f_reg.history['mean_squared_error'] , color = 'r')\n",
    "plt.grid(True)\n",
    "plt.title(\"Model Loss\")\n",
    "plt.xlabel(\"Number of Epochs\")\n",
    "plt.ylabel('Loss')\n",
    "plt.show()"
   ]
  },
  {
   "cell_type": "code",
   "execution_count": 45,
   "metadata": {},
   "outputs": [
    {
     "data": {
      "text/html": [
       "<div>\n",
       "<style scoped>\n",
       "    .dataframe tbody tr th:only-of-type {\n",
       "        vertical-align: middle;\n",
       "    }\n",
       "\n",
       "    .dataframe tbody tr th {\n",
       "        vertical-align: top;\n",
       "    }\n",
       "\n",
       "    .dataframe thead th {\n",
       "        text-align: right;\n",
       "    }\n",
       "</style>\n",
       "<table border=\"1\" class=\"dataframe\">\n",
       "  <thead>\n",
       "    <tr style=\"text-align: right;\">\n",
       "      <th></th>\n",
       "      <th>Unnamed: 0</th>\n",
       "      <th>MSE</th>\n",
       "      <th>RMSE</th>\n",
       "      <th>MSE Log</th>\n",
       "      <th>R2-Score</th>\n",
       "    </tr>\n",
       "  </thead>\n",
       "  <tbody>\n",
       "    <tr>\n",
       "      <th>0</th>\n",
       "      <td>Ridge</td>\n",
       "      <td>0.003722</td>\n",
       "      <td>0.061011</td>\n",
       "      <td>0.001411</td>\n",
       "      <td>0.817979</td>\n",
       "    </tr>\n",
       "    <tr>\n",
       "      <th>1</th>\n",
       "      <td>SVR</td>\n",
       "      <td>0.008837</td>\n",
       "      <td>0.094007</td>\n",
       "      <td>0.003201</td>\n",
       "      <td>0.567856</td>\n",
       "    </tr>\n",
       "    <tr>\n",
       "      <th>2</th>\n",
       "      <td>AdaBoost</td>\n",
       "      <td>0.004813</td>\n",
       "      <td>0.069373</td>\n",
       "      <td>0.001799</td>\n",
       "      <td>0.764664</td>\n",
       "    </tr>\n",
       "    <tr>\n",
       "      <th>3</th>\n",
       "      <td>RandomForest</td>\n",
       "      <td>0.004321</td>\n",
       "      <td>0.065736</td>\n",
       "      <td>0.001646</td>\n",
       "      <td>0.788692</td>\n",
       "    </tr>\n",
       "  </tbody>\n",
       "</table>\n",
       "</div>"
      ],
      "text/plain": [
       "     Unnamed: 0       MSE      RMSE   MSE Log  R2-Score\n",
       "0         Ridge  0.003722  0.061011  0.001411  0.817979\n",
       "1           SVR  0.008837  0.094007  0.003201  0.567856\n",
       "2      AdaBoost  0.004813  0.069373  0.001799  0.764664\n",
       "3  RandomForest  0.004321  0.065736  0.001646  0.788692"
      ]
     },
     "execution_count": 45,
     "metadata": {},
     "output_type": "execute_result"
    }
   ],
   "source": []
  },
  {
   "cell_type": "code",
   "execution_count": 68,
   "metadata": {},
   "outputs": [],
   "source": [
    "nn_op = pd.DataFrame(columns = ['MSE' , 'RMSE' , 'MSE Log' , 'R2-Score'])"
   ]
  },
  {
   "cell_type": "code",
   "execution_count": 69,
   "metadata": {},
   "outputs": [],
   "source": [
    "nn_op.loc['NeuralNet'] = [mse ,rmse ,mse_log , r2score] "
   ]
  },
  {
   "cell_type": "code",
   "execution_count": 70,
   "metadata": {},
   "outputs": [],
   "source": [
    "nn_op.to_csv('NeuraNet_op.csv')"
   ]
  },
  {
   "cell_type": "code",
   "execution_count": 71,
   "metadata": {},
   "outputs": [
    {
     "data": {
      "text/html": [
       "<div>\n",
       "<style scoped>\n",
       "    .dataframe tbody tr th:only-of-type {\n",
       "        vertical-align: middle;\n",
       "    }\n",
       "\n",
       "    .dataframe tbody tr th {\n",
       "        vertical-align: top;\n",
       "    }\n",
       "\n",
       "    .dataframe thead th {\n",
       "        text-align: right;\n",
       "    }\n",
       "</style>\n",
       "<table border=\"1\" class=\"dataframe\">\n",
       "  <thead>\n",
       "    <tr style=\"text-align: right;\">\n",
       "      <th></th>\n",
       "      <th>MSE</th>\n",
       "      <th>RMSE</th>\n",
       "      <th>MSE Log</th>\n",
       "      <th>R2-Score</th>\n",
       "    </tr>\n",
       "  </thead>\n",
       "  <tbody>\n",
       "    <tr>\n",
       "      <th>NeuralNet</th>\n",
       "      <td>0.003542</td>\n",
       "      <td>0.059511</td>\n",
       "      <td>0.00135</td>\n",
       "      <td>0.826818</td>\n",
       "    </tr>\n",
       "  </tbody>\n",
       "</table>\n",
       "</div>"
      ],
      "text/plain": [
       "                MSE      RMSE  MSE Log  R2-Score\n",
       "NeuralNet  0.003542  0.059511  0.00135  0.826818"
      ]
     },
     "execution_count": 71,
     "metadata": {},
     "output_type": "execute_result"
    }
   ],
   "source": [
    "nn_op.head()"
   ]
  },
  {
   "cell_type": "code",
   "execution_count": null,
   "metadata": {},
   "outputs": [],
   "source": []
  }
 ],
 "metadata": {
  "kernelspec": {
   "display_name": "Python 3",
   "language": "python",
   "name": "python3"
  },
  "language_info": {
   "codemirror_mode": {
    "name": "ipython",
    "version": 3
   },
   "file_extension": ".py",
   "mimetype": "text/x-python",
   "name": "python",
   "nbconvert_exporter": "python",
   "pygments_lexer": "ipython3",
   "version": "3.6.8"
  }
 },
 "nbformat": 4,
 "nbformat_minor": 2
}
